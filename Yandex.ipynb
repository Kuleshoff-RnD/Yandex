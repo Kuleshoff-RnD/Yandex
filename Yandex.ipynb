{
 "cells": [
  {
   "cell_type": "code",
   "execution_count": 1,
   "metadata": {},
   "outputs": [],
   "source": []
  },
  {
   "cell_type": "code",
   "execution_count": 15,
   "metadata": {},
   "outputs": [
    {
     "data": {
      "text/plain": [
       "1"
      ]
     },
     "execution_count": 15,
     "metadata": {},
     "output_type": "execute_result"
    }
   ],
   "source": [
    "def candy_steward(bag_of_sweets):\n",
    "    import numpy \n",
    "    import collections\n",
    "    from numpy import unique\n",
    "    from collections import Counter\n",
    "    \n",
    "    c = collections.Counter()\n",
    "    \n",
    "    # проверяем содержимое сумки, считаем сколько каких конфет \n",
    "    for sweet in bag_of_sweets:\n",
    "        c[sweet] += 1\n",
    "        \n",
    "        # создаём новцю сумку в виде словаря со значением в виде количества\n",
    "    new_bag =  dict(c)\n",
    "    \n",
    "    # забираем из словаря значения и кладём их в массив\n",
    "    Arr = []\n",
    "    [Arr.extend([v]) for v in new_bag.values()]\n",
    "    \n",
    "    # если имеем одинаковое количество каждого наименования то эти конфеты можно расперделить \n",
    "    # сравниваем элементы на равенство через определение уникального значения\n",
    "    # если значение есть и оно одно, то все элементы одинаковые, равны между собой \n",
    "    # возвращаем это количество\n",
    "    if len(unique(Arr)) <= 1:\n",
    "        return (Arr[0])\n",
    "    \n",
    "    # если есть больше одного уникального значения, то возвращаем наименьшее из уникальных\n",
    "    else: \n",
    "        minimum = Arr[0]\n",
    "        for i in range(1, len(Arr)):\n",
    "            if Arr[i] < minimum:\n",
    "                minimum = Arr[i]\n",
    "               \n",
    "        return minimum\n",
    "\n",
    "    \n",
    "#ТЕСТ: ['a', 'b', 'c'] ОТВЕТ:1\n",
    "#ТЕСТ: ['a', 'b', 'c', 'a', 'b', 'c', 'd'] ОТВЕТ:1\n",
    "#ТЕСТ: ['a', 'b', 'c', 'a', 'b', 'c'] ОТВЕТ:2\n",
    "\n",
    "bag_of_sweets_1 = ['a', 'b', 'c']\n",
    "bag_of_sweets_2 = ['a', 'b', 'c', 'a', 'b', 'c', 'd']\n",
    "bag_of_sweets_3 = ['a', 'b', 'c', 'a', 'b', 'c']\n",
    "bag_of_sweets_4 = ['a', 'b', 'c', 'a', 'b', 'c','a', 'b', 'c']\n",
    "\n",
    "candy_steward(bag_of_sweets_1)"
   ]
  },
  {
   "cell_type": "code",
   "execution_count": null,
   "metadata": {},
   "outputs": [],
   "source": []
  },
  {
   "cell_type": "code",
   "execution_count": null,
   "metadata": {},
   "outputs": [],
   "source": []
  }
 ],
 "metadata": {
  "kernelspec": {
   "display_name": "Python 3",
   "language": "python",
   "name": "python3"
  },
  "language_info": {
   "codemirror_mode": {
    "name": "ipython",
    "version": 3
   },
   "file_extension": ".py",
   "mimetype": "text/x-python",
   "name": "python",
   "nbconvert_exporter": "python",
   "pygments_lexer": "ipython3",
   "version": "3.8.5"
  }
 },
 "nbformat": 4,
 "nbformat_minor": 4
}
